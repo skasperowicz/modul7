{
 "cells": [
  {
   "cell_type": "markdown",
   "id": "d79bed7b-8ece-47ea-b689-b3e38fa2fd0e",
   "metadata": {},
   "source": [
    "#używamy słowa def \n",
    "wpisujem nazwę funkcji i argumenty\n",
    "definiujemy ciało\n",
    "definiujemy co funkcja ma zwracać"
   ]
  },
  {
   "cell_type": "code",
   "execution_count": 4,
   "id": "a95690a3-3f7b-4c8d-ba9b-98bbacf82387",
   "metadata": {},
   "outputs": [],
   "source": [
    "def add(a,b):\n",
    "    result = a + b\n",
    "    return result"
   ]
  },
  {
   "cell_type": "markdown",
   "id": "acd0a1cb-df28-488b-9a68-4acf70ca59c6",
   "metadata": {},
   "source": [
    "# wywołanie funkcji\n",
    "    nazwa funkcji(argument1,argument2)"
   ]
  },
  {
   "cell_type": "code",
   "execution_count": 5,
   "id": "84290144-88f9-4a9f-8285-a1bb8e5b1bb3",
   "metadata": {},
   "outputs": [
    {
     "data": {
      "text/plain": [
       "501"
      ]
     },
     "execution_count": 5,
     "metadata": {},
     "output_type": "execute_result"
    }
   ],
   "source": [
    "add(1,500)"
   ]
  },
  {
   "cell_type": "code",
   "execution_count": null,
   "id": "debf2d89-ad75-4aed-8639-25a7dc6d32c1",
   "metadata": {},
   "outputs": [],
   "source": []
  }
 ],
 "metadata": {
  "kernelspec": {
   "display_name": "Python 3 (ipykernel)",
   "language": "python",
   "name": "python3"
  },
  "language_info": {
   "codemirror_mode": {
    "name": "ipython",
    "version": 3
   },
   "file_extension": ".py",
   "mimetype": "text/x-python",
   "name": "python",
   "nbconvert_exporter": "python",
   "pygments_lexer": "ipython3",
   "version": "3.11.7"
  }
 },
 "nbformat": 4,
 "nbformat_minor": 5
}
